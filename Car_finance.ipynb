{
 "cells": [
  {
   "cell_type": "code",
   "execution_count": 3,
   "metadata": {},
   "outputs": [
    {
     "data": {
      "text/html": [
       "<div>\n",
       "<style scoped>\n",
       "    .dataframe tbody tr th:only-of-type {\n",
       "        vertical-align: middle;\n",
       "    }\n",
       "\n",
       "    .dataframe tbody tr th {\n",
       "        vertical-align: top;\n",
       "    }\n",
       "\n",
       "    .dataframe thead th {\n",
       "        text-align: right;\n",
       "    }\n",
       "</style>\n",
       "<table border=\"1\" class=\"dataframe\">\n",
       "  <thead>\n",
       "    <tr style=\"text-align: right;\">\n",
       "      <th></th>\n",
       "      <th>Month</th>\n",
       "      <th>Starting Balance</th>\n",
       "      <th>Repayment</th>\n",
       "      <th>Interest Paid</th>\n",
       "      <th>Principal Paid</th>\n",
       "      <th>New Balance</th>\n",
       "      <th>term</th>\n",
       "      <th>interest_rate</th>\n",
       "      <th>car_type</th>\n",
       "    </tr>\n",
       "  </thead>\n",
       "  <tbody>\n",
       "    <tr>\n",
       "      <th>0</th>\n",
       "      <td>1</td>\n",
       "      <td>34689.96</td>\n",
       "      <td>687.23</td>\n",
       "      <td>202.93</td>\n",
       "      <td>484.30</td>\n",
       "      <td>34205.66</td>\n",
       "      <td>60</td>\n",
       "      <td>0.0702</td>\n",
       "      <td>Toyota Sienna</td>\n",
       "    </tr>\n",
       "    <tr>\n",
       "      <th>1</th>\n",
       "      <td>2</td>\n",
       "      <td>34205.66</td>\n",
       "      <td>687.23</td>\n",
       "      <td>200.10</td>\n",
       "      <td>487.13</td>\n",
       "      <td>33718.53</td>\n",
       "      <td>60</td>\n",
       "      <td>0.0702</td>\n",
       "      <td>Toyota Sienna</td>\n",
       "    </tr>\n",
       "    <tr>\n",
       "      <th>2</th>\n",
       "      <td>3</td>\n",
       "      <td>33718.53</td>\n",
       "      <td>687.23</td>\n",
       "      <td>197.25</td>\n",
       "      <td>489.98</td>\n",
       "      <td>33228.55</td>\n",
       "      <td>60</td>\n",
       "      <td>0.0702</td>\n",
       "      <td>Toyota Sienna</td>\n",
       "    </tr>\n",
       "    <tr>\n",
       "      <th>3</th>\n",
       "      <td>4</td>\n",
       "      <td>33228.55</td>\n",
       "      <td>687.23</td>\n",
       "      <td>194.38</td>\n",
       "      <td>492.85</td>\n",
       "      <td>32735.70</td>\n",
       "      <td>60</td>\n",
       "      <td>0.0702</td>\n",
       "      <td>Toyota Sienna</td>\n",
       "    </tr>\n",
       "    <tr>\n",
       "      <th>4</th>\n",
       "      <td>5</td>\n",
       "      <td>32735.70</td>\n",
       "      <td>687.23</td>\n",
       "      <td>191.50</td>\n",
       "      <td>495.73</td>\n",
       "      <td>32239.97</td>\n",
       "      <td>60</td>\n",
       "      <td>0.0702</td>\n",
       "      <td>Toyota Sienna</td>\n",
       "    </tr>\n",
       "  </tbody>\n",
       "</table>\n",
       "</div>"
      ],
      "text/plain": [
       "   Month  Starting Balance  Repayment  Interest Paid  Principal Paid  \\\n",
       "0      1          34689.96     687.23         202.93          484.30   \n",
       "1      2          34205.66     687.23         200.10          487.13   \n",
       "2      3          33718.53     687.23         197.25          489.98   \n",
       "3      4          33228.55     687.23         194.38          492.85   \n",
       "4      5          32735.70     687.23         191.50          495.73   \n",
       "\n",
       "   New Balance  term  interest_rate       car_type  \n",
       "0     34205.66    60         0.0702  Toyota Sienna  \n",
       "1     33718.53    60         0.0702  Toyota Sienna  \n",
       "2     33228.55    60         0.0702  Toyota Sienna  \n",
       "3     32735.70    60         0.0702  Toyota Sienna  \n",
       "4     32239.97    60         0.0702  Toyota Sienna  "
      ]
     },
     "execution_count": 3,
     "metadata": {},
     "output_type": "execute_result"
    }
   ],
   "source": [
    "import pandas as pd\n",
    "m=pd.read_csv(\"car_financing.csv\")\n",
    "m.head()"
   ]
  },
  {
   "cell_type": "code",
   "execution_count": 4,
   "metadata": {},
   "outputs": [
    {
     "data": {
      "text/plain": [
       "Index(['Month', 'Starting Balance', 'Repayment', 'Interest Paid',\n",
       "       'Principal Paid', 'New Balance', 'term', 'interest_rate', 'car_type'],\n",
       "      dtype='object')"
      ]
     },
     "execution_count": 4,
     "metadata": {},
     "output_type": "execute_result"
    }
   ],
   "source": [
    "m.columns"
   ]
  },
  {
   "cell_type": "code",
   "execution_count": 5,
   "metadata": {},
   "outputs": [
    {
     "data": {
      "text/html": [
       "<div>\n",
       "<style scoped>\n",
       "    .dataframe tbody tr th:only-of-type {\n",
       "        vertical-align: middle;\n",
       "    }\n",
       "\n",
       "    .dataframe tbody tr th {\n",
       "        vertical-align: top;\n",
       "    }\n",
       "\n",
       "    .dataframe thead th {\n",
       "        text-align: right;\n",
       "    }\n",
       "</style>\n",
       "<table border=\"1\" class=\"dataframe\">\n",
       "  <thead>\n",
       "    <tr style=\"text-align: right;\">\n",
       "      <th></th>\n",
       "      <th>Month</th>\n",
       "      <th>Starting Balance</th>\n",
       "      <th>Repayment</th>\n",
       "      <th>Interest Paid</th>\n",
       "      <th>Principal Paid</th>\n",
       "      <th>New Balance</th>\n",
       "      <th>term</th>\n",
       "      <th>interest_rate</th>\n",
       "    </tr>\n",
       "  </thead>\n",
       "  <tbody>\n",
       "    <tr>\n",
       "      <th>count</th>\n",
       "      <td>408.000000</td>\n",
       "      <td>408.000000</td>\n",
       "      <td>408.000000</td>\n",
       "      <td>408.000000</td>\n",
       "      <td>408.000000</td>\n",
       "      <td>408.000000</td>\n",
       "      <td>408.000000</td>\n",
       "      <td>408.000000</td>\n",
       "    </tr>\n",
       "    <tr>\n",
       "      <th>mean</th>\n",
       "      <td>26.970588</td>\n",
       "      <td>17562.870343</td>\n",
       "      <td>712.134118</td>\n",
       "      <td>56.715123</td>\n",
       "      <td>655.418995</td>\n",
       "      <td>16907.451348</td>\n",
       "      <td>52.941176</td>\n",
       "      <td>0.039603</td>\n",
       "    </tr>\n",
       "    <tr>\n",
       "      <th>std</th>\n",
       "      <td>16.207776</td>\n",
       "      <td>11224.423084</td>\n",
       "      <td>247.447947</td>\n",
       "      <td>40.775353</td>\n",
       "      <td>245.361625</td>\n",
       "      <td>11168.974693</td>\n",
       "      <td>9.268926</td>\n",
       "      <td>0.013414</td>\n",
       "    </tr>\n",
       "    <tr>\n",
       "      <th>min</th>\n",
       "      <td>1.000000</td>\n",
       "      <td>395.410000</td>\n",
       "      <td>396.820000</td>\n",
       "      <td>1.280000</td>\n",
       "      <td>326.620000</td>\n",
       "      <td>-0.490000</td>\n",
       "      <td>36.000000</td>\n",
       "      <td>0.029000</td>\n",
       "    </tr>\n",
       "    <tr>\n",
       "      <th>25%</th>\n",
       "      <td>13.000000</td>\n",
       "      <td>8557.900000</td>\n",
       "      <td>486.740000</td>\n",
       "      <td>26.257500</td>\n",
       "      <td>476.972500</td>\n",
       "      <td>7832.080000</td>\n",
       "      <td>48.000000</td>\n",
       "      <td>0.029000</td>\n",
       "    </tr>\n",
       "    <tr>\n",
       "      <th>50%</th>\n",
       "      <td>26.000000</td>\n",
       "      <td>16262.230000</td>\n",
       "      <td>661.995000</td>\n",
       "      <td>50.640000</td>\n",
       "      <td>598.135000</td>\n",
       "      <td>15539.305000</td>\n",
       "      <td>60.000000</td>\n",
       "      <td>0.037450</td>\n",
       "    </tr>\n",
       "    <tr>\n",
       "      <th>75%</th>\n",
       "      <td>39.250000</td>\n",
       "      <td>25285.055000</td>\n",
       "      <td>796.010000</td>\n",
       "      <td>76.357500</td>\n",
       "      <td>760.790000</td>\n",
       "      <td>24535.925000</td>\n",
       "      <td>60.000000</td>\n",
       "      <td>0.039000</td>\n",
       "    </tr>\n",
       "    <tr>\n",
       "      <th>max</th>\n",
       "      <td>60.000000</td>\n",
       "      <td>44409.600000</td>\n",
       "      <td>1289.530000</td>\n",
       "      <td>202.930000</td>\n",
       "      <td>1286.430000</td>\n",
       "      <td>43720.910000</td>\n",
       "      <td>60.000000</td>\n",
       "      <td>0.070200</td>\n",
       "    </tr>\n",
       "  </tbody>\n",
       "</table>\n",
       "</div>"
      ],
      "text/plain": [
       "            Month  Starting Balance    Repayment  Interest Paid  \\\n",
       "count  408.000000        408.000000   408.000000     408.000000   \n",
       "mean    26.970588      17562.870343   712.134118      56.715123   \n",
       "std     16.207776      11224.423084   247.447947      40.775353   \n",
       "min      1.000000        395.410000   396.820000       1.280000   \n",
       "25%     13.000000       8557.900000   486.740000      26.257500   \n",
       "50%     26.000000      16262.230000   661.995000      50.640000   \n",
       "75%     39.250000      25285.055000   796.010000      76.357500   \n",
       "max     60.000000      44409.600000  1289.530000     202.930000   \n",
       "\n",
       "       Principal Paid   New Balance        term  interest_rate  \n",
       "count      408.000000    408.000000  408.000000     408.000000  \n",
       "mean       655.418995  16907.451348   52.941176       0.039603  \n",
       "std        245.361625  11168.974693    9.268926       0.013414  \n",
       "min        326.620000     -0.490000   36.000000       0.029000  \n",
       "25%        476.972500   7832.080000   48.000000       0.029000  \n",
       "50%        598.135000  15539.305000   60.000000       0.037450  \n",
       "75%        760.790000  24535.925000   60.000000       0.039000  \n",
       "max       1286.430000  43720.910000   60.000000       0.070200  "
      ]
     },
     "execution_count": 5,
     "metadata": {},
     "output_type": "execute_result"
    }
   ],
   "source": [
    "m.describe()"
   ]
  },
  {
   "cell_type": "code",
   "execution_count": 6,
   "metadata": {},
   "outputs": [
    {
     "data": {
      "text/plain": [
       "Month                 int64\n",
       "Starting Balance    float64\n",
       "Repayment           float64\n",
       "Interest Paid       float64\n",
       "Principal Paid      float64\n",
       "New Balance         float64\n",
       "term                  int64\n",
       "interest_rate       float64\n",
       "car_type             object\n",
       "dtype: object"
      ]
     },
     "execution_count": 6,
     "metadata": {},
     "output_type": "execute_result"
    }
   ],
   "source": [
    "m.dtypes"
   ]
  },
  {
   "cell_type": "code",
   "execution_count": 7,
   "metadata": {},
   "outputs": [
    {
     "data": {
      "text/plain": [
       "array([ 1,  2,  3,  4,  5,  6,  7,  8,  9, 10, 11, 12, 13, 14, 15, 16, 17,\n",
       "       18, 19, 20, 21, 22, 23, 24, 25, 26, 27, 28, 29, 30, 31, 32, 33, 34,\n",
       "       35, 36, 37, 38, 39, 40, 41, 42, 43, 44, 45, 46, 47, 48, 49, 50, 51,\n",
       "       52, 53, 54, 55, 56, 57, 58, 59, 60], dtype=int64)"
      ]
     },
     "execution_count": 7,
     "metadata": {},
     "output_type": "execute_result"
    }
   ],
   "source": [
    "m['Month'].unique()"
   ]
  },
  {
   "cell_type": "markdown",
   "metadata": {},
   "source": []
  },
  {
   "cell_type": "code",
   "execution_count": 8,
   "metadata": {},
   "outputs": [
    {
     "data": {
      "text/plain": [
       "array(['Toyota Sienna', 'Toyota Corolla', 'Toyota Carolla', 'VW Golf R'],\n",
       "      dtype=object)"
      ]
     },
     "execution_count": 8,
     "metadata": {},
     "output_type": "execute_result"
    }
   ],
   "source": [
    "m['car_type'].unique()"
   ]
  },
  {
   "cell_type": "code",
   "execution_count": 9,
   "metadata": {},
   "outputs": [
    {
     "data": {
      "text/plain": [
       "Month               0\n",
       "Starting Balance    0\n",
       "Repayment           0\n",
       "Interest Paid       0\n",
       "Principal Paid      0\n",
       "New Balance         0\n",
       "term                0\n",
       "interest_rate       0\n",
       "car_type            0\n",
       "dtype: int64"
      ]
     },
     "execution_count": 9,
     "metadata": {},
     "output_type": "execute_result"
    }
   ],
   "source": [
    "m.isnull().sum()"
   ]
  },
  {
   "cell_type": "code",
   "execution_count": 10,
   "metadata": {},
   "outputs": [
    {
     "data": {
      "text/html": [
       "<div>\n",
       "<style scoped>\n",
       "    .dataframe tbody tr th:only-of-type {\n",
       "        vertical-align: middle;\n",
       "    }\n",
       "\n",
       "    .dataframe tbody tr th {\n",
       "        vertical-align: top;\n",
       "    }\n",
       "\n",
       "    .dataframe thead th {\n",
       "        text-align: right;\n",
       "    }\n",
       "</style>\n",
       "<table border=\"1\" class=\"dataframe\">\n",
       "  <thead>\n",
       "    <tr style=\"text-align: right;\">\n",
       "      <th></th>\n",
       "      <th>Month</th>\n",
       "      <th>Starting Balance</th>\n",
       "      <th>Repayment</th>\n",
       "      <th>Interest Paid</th>\n",
       "      <th>Principal Paid</th>\n",
       "      <th>New Balance</th>\n",
       "      <th>term</th>\n",
       "      <th>interest_rate</th>\n",
       "      <th>car_type</th>\n",
       "    </tr>\n",
       "  </thead>\n",
       "  <tbody>\n",
       "    <tr>\n",
       "      <th>403</th>\n",
       "      <td>56</td>\n",
       "      <td>3951.11</td>\n",
       "      <td>796.01</td>\n",
       "      <td>9.54</td>\n",
       "      <td>786.47</td>\n",
       "      <td>3164.64</td>\n",
       "      <td>60</td>\n",
       "      <td>0.029</td>\n",
       "      <td>VW Golf R</td>\n",
       "    </tr>\n",
       "    <tr>\n",
       "      <th>404</th>\n",
       "      <td>57</td>\n",
       "      <td>3164.64</td>\n",
       "      <td>796.01</td>\n",
       "      <td>7.64</td>\n",
       "      <td>788.37</td>\n",
       "      <td>2376.27</td>\n",
       "      <td>60</td>\n",
       "      <td>0.029</td>\n",
       "      <td>VW Golf R</td>\n",
       "    </tr>\n",
       "    <tr>\n",
       "      <th>405</th>\n",
       "      <td>58</td>\n",
       "      <td>2376.27</td>\n",
       "      <td>796.01</td>\n",
       "      <td>5.74</td>\n",
       "      <td>790.27</td>\n",
       "      <td>1586.00</td>\n",
       "      <td>60</td>\n",
       "      <td>0.029</td>\n",
       "      <td>VW Golf R</td>\n",
       "    </tr>\n",
       "    <tr>\n",
       "      <th>406</th>\n",
       "      <td>59</td>\n",
       "      <td>1586.00</td>\n",
       "      <td>796.01</td>\n",
       "      <td>3.83</td>\n",
       "      <td>792.18</td>\n",
       "      <td>793.82</td>\n",
       "      <td>60</td>\n",
       "      <td>0.029</td>\n",
       "      <td>VW Golf R</td>\n",
       "    </tr>\n",
       "    <tr>\n",
       "      <th>407</th>\n",
       "      <td>60</td>\n",
       "      <td>793.82</td>\n",
       "      <td>796.01</td>\n",
       "      <td>1.91</td>\n",
       "      <td>794.10</td>\n",
       "      <td>-0.28</td>\n",
       "      <td>60</td>\n",
       "      <td>0.029</td>\n",
       "      <td>VW Golf R</td>\n",
       "    </tr>\n",
       "  </tbody>\n",
       "</table>\n",
       "</div>"
      ],
      "text/plain": [
       "     Month  Starting Balance  Repayment  Interest Paid  Principal Paid  \\\n",
       "403     56           3951.11     796.01           9.54          786.47   \n",
       "404     57           3164.64     796.01           7.64          788.37   \n",
       "405     58           2376.27     796.01           5.74          790.27   \n",
       "406     59           1586.00     796.01           3.83          792.18   \n",
       "407     60            793.82     796.01           1.91          794.10   \n",
       "\n",
       "     New Balance  term  interest_rate   car_type  \n",
       "403      3164.64    60          0.029  VW Golf R  \n",
       "404      2376.27    60          0.029  VW Golf R  \n",
       "405      1586.00    60          0.029  VW Golf R  \n",
       "406       793.82    60          0.029  VW Golf R  \n",
       "407        -0.28    60          0.029  VW Golf R  "
      ]
     },
     "execution_count": 10,
     "metadata": {},
     "output_type": "execute_result"
    }
   ],
   "source": [
    "m.tail()"
   ]
  },
  {
   "cell_type": "code",
   "execution_count": 11,
   "metadata": {},
   "outputs": [
    {
     "data": {
      "text/plain": [
       "dtype('float64')"
      ]
     },
     "execution_count": 11,
     "metadata": {},
     "output_type": "execute_result"
    }
   ],
   "source": [
    "m['Principal Paid'].dtype"
   ]
  },
  {
   "cell_type": "code",
   "execution_count": 12,
   "metadata": {},
   "outputs": [
    {
     "data": {
      "text/plain": [
       "1286.43"
      ]
     },
     "execution_count": 12,
     "metadata": {},
     "output_type": "execute_result"
    }
   ],
   "source": [
    "m['Principal Paid'].max()"
   ]
  },
  {
   "cell_type": "code",
   "execution_count": 13,
   "metadata": {},
   "outputs": [
    {
     "data": {
      "text/plain": [
       "326.62"
      ]
     },
     "execution_count": 13,
     "metadata": {},
     "output_type": "execute_result"
    }
   ],
   "source": [
    "m['Principal Paid'].min()"
   ]
  },
  {
   "cell_type": "code",
   "execution_count": 14,
   "metadata": {},
   "outputs": [
    {
     "data": {
      "text/html": [
       "<div>\n",
       "<style scoped>\n",
       "    .dataframe tbody tr th:only-of-type {\n",
       "        vertical-align: middle;\n",
       "    }\n",
       "\n",
       "    .dataframe tbody tr th {\n",
       "        vertical-align: top;\n",
       "    }\n",
       "\n",
       "    .dataframe thead th {\n",
       "        text-align: right;\n",
       "    }\n",
       "</style>\n",
       "<table border=\"1\" class=\"dataframe\">\n",
       "  <thead>\n",
       "    <tr style=\"text-align: right;\">\n",
       "      <th></th>\n",
       "      <th>Month</th>\n",
       "      <th>Starting Balance</th>\n",
       "      <th>Repayment</th>\n",
       "      <th>Interest Paid</th>\n",
       "      <th>Principal Paid</th>\n",
       "      <th>New Balance</th>\n",
       "      <th>term</th>\n",
       "      <th>interest_rate</th>\n",
       "      <th>car_type</th>\n",
       "    </tr>\n",
       "  </thead>\n",
       "  <tbody>\n",
       "    <tr>\n",
       "      <th>0</th>\n",
       "      <td>1</td>\n",
       "      <td>34689.96</td>\n",
       "      <td>687.23</td>\n",
       "      <td>202.93</td>\n",
       "      <td>484.30</td>\n",
       "      <td>34205.66</td>\n",
       "      <td>60</td>\n",
       "      <td>0.0702</td>\n",
       "      <td>Toyota Sienna</td>\n",
       "    </tr>\n",
       "    <tr>\n",
       "      <th>1</th>\n",
       "      <td>2</td>\n",
       "      <td>34205.66</td>\n",
       "      <td>687.23</td>\n",
       "      <td>200.10</td>\n",
       "      <td>487.13</td>\n",
       "      <td>33718.53</td>\n",
       "      <td>60</td>\n",
       "      <td>0.0702</td>\n",
       "      <td>Toyota Sienna</td>\n",
       "    </tr>\n",
       "    <tr>\n",
       "      <th>2</th>\n",
       "      <td>3</td>\n",
       "      <td>33718.53</td>\n",
       "      <td>687.23</td>\n",
       "      <td>197.25</td>\n",
       "      <td>489.98</td>\n",
       "      <td>33228.55</td>\n",
       "      <td>60</td>\n",
       "      <td>0.0702</td>\n",
       "      <td>Toyota Sienna</td>\n",
       "    </tr>\n",
       "  </tbody>\n",
       "</table>\n",
       "</div>"
      ],
      "text/plain": [
       "   Month  Starting Balance  Repayment  Interest Paid  Principal Paid  \\\n",
       "0      1          34689.96     687.23         202.93          484.30   \n",
       "1      2          34205.66     687.23         200.10          487.13   \n",
       "2      3          33718.53     687.23         197.25          489.98   \n",
       "\n",
       "   New Balance  term  interest_rate       car_type  \n",
       "0     34205.66    60         0.0702  Toyota Sienna  \n",
       "1     33718.53    60         0.0702  Toyota Sienna  \n",
       "2     33228.55    60         0.0702  Toyota Sienna  "
      ]
     },
     "execution_count": 14,
     "metadata": {},
     "output_type": "execute_result"
    }
   ],
   "source": [
    "m.head(3)"
   ]
  },
  {
   "cell_type": "code",
   "execution_count": 15,
   "metadata": {},
   "outputs": [
    {
     "data": {
      "text/plain": [
       "683.24"
      ]
     },
     "execution_count": 15,
     "metadata": {},
     "output_type": "execute_result"
    }
   ],
   "source": [
    "m[m['car_type']=='Toyota Sienna']['Principal Paid'].max()"
   ]
  },
  {
   "cell_type": "code",
   "execution_count": 16,
   "metadata": {},
   "outputs": [
    {
     "data": {
      "text/plain": [
       "484.3"
      ]
     },
     "execution_count": 16,
     "metadata": {},
     "output_type": "execute_result"
    }
   ],
   "source": [
    "m[m['car_type']=='Toyota Sienna']['Principal Paid'].min()"
   ]
  },
  {
   "cell_type": "code",
   "execution_count": 17,
   "metadata": {},
   "outputs": [
    {
     "data": {
      "text/plain": [
       "69380.61"
      ]
     },
     "execution_count": 17,
     "metadata": {},
     "output_type": "execute_result"
    }
   ],
   "source": [
    "m[m['car_type']=='Toyota Sienna']['Principal Paid'].sum()"
   ]
  },
  {
   "cell_type": "code",
   "execution_count": 18,
   "metadata": {},
   "outputs": [
    {
     "data": {
      "text/plain": [
       "9801.39"
      ]
     },
     "execution_count": 18,
     "metadata": {},
     "output_type": "execute_result"
    }
   ],
   "source": [
    "m[m['car_type']=='Toyota Sienna']['Interest Paid'].sum()"
   ]
  },
  {
   "cell_type": "code",
   "execution_count": 19,
   "metadata": {},
   "outputs": [
    {
     "data": {
      "text/plain": [
       "array([0.0702, 0.0359])"
      ]
     },
     "execution_count": 19,
     "metadata": {},
     "output_type": "execute_result"
    }
   ],
   "source": [
    "m[m['car_type']=='Toyota Sienna']['interest_rate'].unique()"
   ]
  },
  {
   "cell_type": "code",
   "execution_count": 20,
   "metadata": {},
   "outputs": [
    {
     "data": {
      "text/html": [
       "<div>\n",
       "<style scoped>\n",
       "    .dataframe tbody tr th:only-of-type {\n",
       "        vertical-align: middle;\n",
       "    }\n",
       "\n",
       "    .dataframe tbody tr th {\n",
       "        vertical-align: top;\n",
       "    }\n",
       "\n",
       "    .dataframe thead th {\n",
       "        text-align: right;\n",
       "    }\n",
       "</style>\n",
       "<table border=\"1\" class=\"dataframe\">\n",
       "  <thead>\n",
       "    <tr style=\"text-align: right;\">\n",
       "      <th></th>\n",
       "      <th>Month</th>\n",
       "      <th>Starting Balance</th>\n",
       "      <th>Repayment</th>\n",
       "      <th>Interest Paid</th>\n",
       "      <th>Principal Paid</th>\n",
       "      <th>New Balance</th>\n",
       "      <th>term</th>\n",
       "      <th>interest_rate</th>\n",
       "      <th>car_type</th>\n",
       "    </tr>\n",
       "  </thead>\n",
       "  <tbody>\n",
       "    <tr>\n",
       "      <th>50</th>\n",
       "      <td>51</td>\n",
       "      <td>6656.00</td>\n",
       "      <td>687.23</td>\n",
       "      <td>38.93</td>\n",
       "      <td>648.30</td>\n",
       "      <td>6007.70</td>\n",
       "      <td>60</td>\n",
       "      <td>0.0702</td>\n",
       "      <td>Toyota Sienna</td>\n",
       "    </tr>\n",
       "    <tr>\n",
       "      <th>51</th>\n",
       "      <td>52</td>\n",
       "      <td>6007.70</td>\n",
       "      <td>687.23</td>\n",
       "      <td>35.14</td>\n",
       "      <td>652.09</td>\n",
       "      <td>5355.61</td>\n",
       "      <td>60</td>\n",
       "      <td>0.0702</td>\n",
       "      <td>Toyota Sienna</td>\n",
       "    </tr>\n",
       "    <tr>\n",
       "      <th>52</th>\n",
       "      <td>53</td>\n",
       "      <td>5355.61</td>\n",
       "      <td>687.23</td>\n",
       "      <td>31.33</td>\n",
       "      <td>655.90</td>\n",
       "      <td>4699.71</td>\n",
       "      <td>60</td>\n",
       "      <td>0.0702</td>\n",
       "      <td>Toyota Sienna</td>\n",
       "    </tr>\n",
       "    <tr>\n",
       "      <th>53</th>\n",
       "      <td>54</td>\n",
       "      <td>4699.71</td>\n",
       "      <td>687.23</td>\n",
       "      <td>27.49</td>\n",
       "      <td>659.74</td>\n",
       "      <td>4039.97</td>\n",
       "      <td>60</td>\n",
       "      <td>0.0702</td>\n",
       "      <td>Toyota Sienna</td>\n",
       "    </tr>\n",
       "    <tr>\n",
       "      <th>54</th>\n",
       "      <td>55</td>\n",
       "      <td>4039.97</td>\n",
       "      <td>687.23</td>\n",
       "      <td>23.63</td>\n",
       "      <td>663.60</td>\n",
       "      <td>3376.37</td>\n",
       "      <td>60</td>\n",
       "      <td>0.0702</td>\n",
       "      <td>Toyota Sienna</td>\n",
       "    </tr>\n",
       "    <tr>\n",
       "      <th>55</th>\n",
       "      <td>56</td>\n",
       "      <td>3376.37</td>\n",
       "      <td>687.23</td>\n",
       "      <td>19.75</td>\n",
       "      <td>667.48</td>\n",
       "      <td>2708.89</td>\n",
       "      <td>60</td>\n",
       "      <td>0.0702</td>\n",
       "      <td>Toyota Sienna</td>\n",
       "    </tr>\n",
       "    <tr>\n",
       "      <th>56</th>\n",
       "      <td>57</td>\n",
       "      <td>2708.89</td>\n",
       "      <td>687.23</td>\n",
       "      <td>15.84</td>\n",
       "      <td>671.39</td>\n",
       "      <td>2037.50</td>\n",
       "      <td>60</td>\n",
       "      <td>0.0702</td>\n",
       "      <td>Toyota Sienna</td>\n",
       "    </tr>\n",
       "    <tr>\n",
       "      <th>57</th>\n",
       "      <td>58</td>\n",
       "      <td>2037.50</td>\n",
       "      <td>687.23</td>\n",
       "      <td>11.91</td>\n",
       "      <td>675.32</td>\n",
       "      <td>1362.18</td>\n",
       "      <td>60</td>\n",
       "      <td>0.0702</td>\n",
       "      <td>Toyota Sienna</td>\n",
       "    </tr>\n",
       "    <tr>\n",
       "      <th>58</th>\n",
       "      <td>59</td>\n",
       "      <td>1362.18</td>\n",
       "      <td>687.23</td>\n",
       "      <td>7.96</td>\n",
       "      <td>679.27</td>\n",
       "      <td>682.91</td>\n",
       "      <td>60</td>\n",
       "      <td>0.0702</td>\n",
       "      <td>Toyota Sienna</td>\n",
       "    </tr>\n",
       "    <tr>\n",
       "      <th>59</th>\n",
       "      <td>60</td>\n",
       "      <td>682.91</td>\n",
       "      <td>687.23</td>\n",
       "      <td>3.99</td>\n",
       "      <td>683.24</td>\n",
       "      <td>-0.33</td>\n",
       "      <td>60</td>\n",
       "      <td>0.0702</td>\n",
       "      <td>Toyota Sienna</td>\n",
       "    </tr>\n",
       "    <tr>\n",
       "      <th>60</th>\n",
       "      <td>1</td>\n",
       "      <td>34689.96</td>\n",
       "      <td>632.47</td>\n",
       "      <td>103.78</td>\n",
       "      <td>528.69</td>\n",
       "      <td>34161.27</td>\n",
       "      <td>60</td>\n",
       "      <td>0.0359</td>\n",
       "      <td>Toyota Sienna</td>\n",
       "    </tr>\n",
       "  </tbody>\n",
       "</table>\n",
       "</div>"
      ],
      "text/plain": [
       "    Month  Starting Balance  Repayment  Interest Paid  Principal Paid  \\\n",
       "50     51           6656.00     687.23          38.93          648.30   \n",
       "51     52           6007.70     687.23          35.14          652.09   \n",
       "52     53           5355.61     687.23          31.33          655.90   \n",
       "53     54           4699.71     687.23          27.49          659.74   \n",
       "54     55           4039.97     687.23          23.63          663.60   \n",
       "55     56           3376.37     687.23          19.75          667.48   \n",
       "56     57           2708.89     687.23          15.84          671.39   \n",
       "57     58           2037.50     687.23          11.91          675.32   \n",
       "58     59           1362.18     687.23           7.96          679.27   \n",
       "59     60            682.91     687.23           3.99          683.24   \n",
       "60      1          34689.96     632.47         103.78          528.69   \n",
       "\n",
       "    New Balance  term  interest_rate       car_type  \n",
       "50      6007.70    60         0.0702  Toyota Sienna  \n",
       "51      5355.61    60         0.0702  Toyota Sienna  \n",
       "52      4699.71    60         0.0702  Toyota Sienna  \n",
       "53      4039.97    60         0.0702  Toyota Sienna  \n",
       "54      3376.37    60         0.0702  Toyota Sienna  \n",
       "55      2708.89    60         0.0702  Toyota Sienna  \n",
       "56      2037.50    60         0.0702  Toyota Sienna  \n",
       "57      1362.18    60         0.0702  Toyota Sienna  \n",
       "58       682.91    60         0.0702  Toyota Sienna  \n",
       "59        -0.33    60         0.0702  Toyota Sienna  \n",
       "60     34161.27    60         0.0359  Toyota Sienna  "
      ]
     },
     "execution_count": 20,
     "metadata": {},
     "output_type": "execute_result"
    }
   ],
   "source": [
    "m[m['car_type']=='Toyota Sienna'].loc[50:60,:]"
   ]
  },
  {
   "cell_type": "code",
   "execution_count": 21,
   "metadata": {},
   "outputs": [
    {
     "data": {
      "text/plain": [
       "array([484.3 , 487.13, 489.98, 492.85, 495.73, 498.63, 501.55, 504.48,\n",
       "       507.43, 510.4 , 513.39, 516.39, 519.41, 522.45, 525.51, 528.58,\n",
       "       531.67, 534.78, 537.91, 541.06, 544.22, 547.41, 550.61, 553.83,\n",
       "       557.07, 560.33, 563.61, 566.9 , 570.22, 573.56, 576.91, 580.29,\n",
       "       583.68, 587.1 , 590.53, 593.99, 597.46, 600.96, 604.47, 608.01,\n",
       "       611.56, 615.14, 618.74, 622.36, 626.  , 629.66, 633.35, 637.05,\n",
       "       640.78, 644.53, 648.3 , 652.09, 655.9 , 659.74, 663.6 , 667.48,\n",
       "       671.39, 675.32, 679.27, 683.24, 528.69, 530.28, 531.86, 533.45,\n",
       "       535.05, 536.65, 538.26, 539.87, 541.48, 543.1 , 544.73, 546.36,\n",
       "       547.99, 549.63, 551.27, 552.92, 554.58, 556.24, 557.9 , 559.57,\n",
       "       561.24, 562.92, 564.61, 566.3 , 567.99, 569.69, 571.39, 573.1 ,\n",
       "       574.82, 576.54, 578.26, 579.99, 581.73, 583.47, 585.21, 586.96,\n",
       "       588.72, 590.48, 592.25, 594.02, 595.8 , 597.58, 599.37, 601.16,\n",
       "       602.96, 604.76, 606.57, 608.39, 610.21, 612.03, 613.86, 615.7 ,\n",
       "       617.54, 619.39, 621.24, 623.1 , 624.96, 626.83, 628.71, 630.59])"
      ]
     },
     "execution_count": 21,
     "metadata": {},
     "output_type": "execute_result"
    }
   ],
   "source": [
    "m[m['car_type']=='Toyota Sienna']['Principal Paid'].unique()"
   ]
  },
  {
   "cell_type": "code",
   "execution_count": 22,
   "metadata": {},
   "outputs": [
    {
     "data": {
      "text/html": [
       "<div>\n",
       "<style scoped>\n",
       "    .dataframe tbody tr th:only-of-type {\n",
       "        vertical-align: middle;\n",
       "    }\n",
       "\n",
       "    .dataframe tbody tr th {\n",
       "        vertical-align: top;\n",
       "    }\n",
       "\n",
       "    .dataframe thead th {\n",
       "        text-align: right;\n",
       "    }\n",
       "</style>\n",
       "<table border=\"1\" class=\"dataframe\">\n",
       "  <thead>\n",
       "    <tr style=\"text-align: right;\">\n",
       "      <th></th>\n",
       "      <th>Month</th>\n",
       "      <th>Starting Balance</th>\n",
       "      <th>Repayment</th>\n",
       "      <th>Interest Paid</th>\n",
       "      <th>Principal Paid</th>\n",
       "      <th>New Balance</th>\n",
       "      <th>term</th>\n",
       "      <th>interest_rate</th>\n",
       "      <th>car_type</th>\n",
       "    </tr>\n",
       "  </thead>\n",
       "  <tbody>\n",
       "    <tr>\n",
       "      <th>59</th>\n",
       "      <td>60</td>\n",
       "      <td>682.91</td>\n",
       "      <td>687.23</td>\n",
       "      <td>3.99</td>\n",
       "      <td>683.24</td>\n",
       "      <td>-0.33</td>\n",
       "      <td>60</td>\n",
       "      <td>0.0702</td>\n",
       "      <td>Toyota Sienna</td>\n",
       "    </tr>\n",
       "  </tbody>\n",
       "</table>\n",
       "</div>"
      ],
      "text/plain": [
       "    Month  Starting Balance  Repayment  Interest Paid  Principal Paid  \\\n",
       "59     60            682.91     687.23           3.99          683.24   \n",
       "\n",
       "    New Balance  term  interest_rate       car_type  \n",
       "59        -0.33    60         0.0702  Toyota Sienna  "
      ]
     },
     "execution_count": 22,
     "metadata": {},
     "output_type": "execute_result"
    }
   ],
   "source": [
    "m[m['Principal Paid']==683.24]"
   ]
  },
  {
   "cell_type": "code",
   "execution_count": 23,
   "metadata": {},
   "outputs": [
    {
     "data": {
      "text/html": [
       "<div>\n",
       "<style scoped>\n",
       "    .dataframe tbody tr th:only-of-type {\n",
       "        vertical-align: middle;\n",
       "    }\n",
       "\n",
       "    .dataframe tbody tr th {\n",
       "        vertical-align: top;\n",
       "    }\n",
       "\n",
       "    .dataframe thead th {\n",
       "        text-align: right;\n",
       "    }\n",
       "</style>\n",
       "<table border=\"1\" class=\"dataframe\">\n",
       "  <thead>\n",
       "    <tr style=\"text-align: right;\">\n",
       "      <th></th>\n",
       "      <th>Month</th>\n",
       "      <th>Starting Balance</th>\n",
       "      <th>Repayment</th>\n",
       "      <th>Interest Paid</th>\n",
       "      <th>Principal Paid</th>\n",
       "      <th>New Balance</th>\n",
       "      <th>term</th>\n",
       "      <th>interest_rate</th>\n",
       "      <th>car_type</th>\n",
       "    </tr>\n",
       "  </thead>\n",
       "  <tbody>\n",
       "    <tr>\n",
       "      <th>0</th>\n",
       "      <td>1</td>\n",
       "      <td>34689.96</td>\n",
       "      <td>687.23</td>\n",
       "      <td>202.93</td>\n",
       "      <td>484.3</td>\n",
       "      <td>34205.66</td>\n",
       "      <td>60</td>\n",
       "      <td>0.0702</td>\n",
       "      <td>Toyota Sienna</td>\n",
       "    </tr>\n",
       "  </tbody>\n",
       "</table>\n",
       "</div>"
      ],
      "text/plain": [
       "   Month  Starting Balance  Repayment  Interest Paid  Principal Paid  \\\n",
       "0      1          34689.96     687.23         202.93           484.3   \n",
       "\n",
       "   New Balance  term  interest_rate       car_type  \n",
       "0     34205.66    60         0.0702  Toyota Sienna  "
      ]
     },
     "execution_count": 23,
     "metadata": {},
     "output_type": "execute_result"
    }
   ],
   "source": [
    "m[m['Principal Paid']==484.3]"
   ]
  },
  {
   "cell_type": "code",
   "execution_count": 24,
   "metadata": {},
   "outputs": [
    {
     "data": {
      "text/plain": [
       "Month               111\n",
       "Starting Balance    111\n",
       "Repayment           111\n",
       "Interest Paid       111\n",
       "Principal Paid      111\n",
       "New Balance         111\n",
       "term                111\n",
       "interest_rate       111\n",
       "car_type            111\n",
       "dtype: int64"
      ]
     },
     "execution_count": 24,
     "metadata": {},
     "output_type": "execute_result"
    }
   ],
   "source": [
    "m[m['car_type']=='Toyota Carolla'].count()"
   ]
  },
  {
   "cell_type": "code",
   "execution_count": 25,
   "metadata": {},
   "outputs": [
    {
     "data": {
      "text/plain": [
       "Month               120\n",
       "Starting Balance    120\n",
       "Repayment           120\n",
       "Interest Paid       120\n",
       "Principal Paid      120\n",
       "New Balance         120\n",
       "term                120\n",
       "interest_rate       120\n",
       "car_type            120\n",
       "dtype: int64"
      ]
     },
     "execution_count": 25,
     "metadata": {},
     "output_type": "execute_result"
    }
   ],
   "source": [
    "m[m['car_type']=='Toyota Sienna'].count()"
   ]
  },
  {
   "cell_type": "code",
   "execution_count": 26,
   "metadata": {},
   "outputs": [
    {
     "data": {
      "text/plain": [
       "Month               144\n",
       "Starting Balance    144\n",
       "Repayment           144\n",
       "Interest Paid       144\n",
       "Principal Paid      144\n",
       "New Balance         144\n",
       "term                144\n",
       "interest_rate       144\n",
       "car_type            144\n",
       "dtype: int64"
      ]
     },
     "execution_count": 26,
     "metadata": {},
     "output_type": "execute_result"
    }
   ],
   "source": [
    "m[m['car_type']=='VW Golf R'].count()"
   ]
  },
  {
   "cell_type": "code",
   "execution_count": 27,
   "metadata": {},
   "outputs": [
    {
     "data": {
      "text/plain": [
       "Month               33\n",
       "Starting Balance    33\n",
       "Repayment           33\n",
       "Interest Paid       33\n",
       "Principal Paid      33\n",
       "New Balance         33\n",
       "term                33\n",
       "interest_rate       33\n",
       "car_type            33\n",
       "dtype: int64"
      ]
     },
     "execution_count": 27,
     "metadata": {},
     "output_type": "execute_result"
    }
   ],
   "source": [
    "m[m['car_type']=='Toyota Corolla'].count()"
   ]
  },
  {
   "cell_type": "code",
   "execution_count": 28,
   "metadata": {},
   "outputs": [
    {
     "data": {
      "text/plain": [
       "Month               111\n",
       "Starting Balance    111\n",
       "Repayment           111\n",
       "Interest Paid       111\n",
       "Principal Paid      111\n",
       "New Balance         111\n",
       "term                111\n",
       "interest_rate       111\n",
       "car_type            111\n",
       "dtype: int64"
      ]
     },
     "execution_count": 28,
     "metadata": {},
     "output_type": "execute_result"
    }
   ],
   "source": [
    "m[m['car_type']=='Toyota Carolla'].count()"
   ]
  },
  {
   "cell_type": "code",
   "execution_count": 29,
   "metadata": {},
   "outputs": [
    {
     "data": {
      "text/plain": [
       "44409.6"
      ]
     },
     "execution_count": 29,
     "metadata": {},
     "output_type": "execute_result"
    }
   ],
   "source": [
    "m['Starting Balance'].max()"
   ]
  },
  {
   "cell_type": "code",
   "execution_count": 30,
   "metadata": {},
   "outputs": [
    {
     "data": {
      "text/html": [
       "<div>\n",
       "<style scoped>\n",
       "    .dataframe tbody tr th:only-of-type {\n",
       "        vertical-align: middle;\n",
       "    }\n",
       "\n",
       "    .dataframe tbody tr th {\n",
       "        vertical-align: top;\n",
       "    }\n",
       "\n",
       "    .dataframe thead th {\n",
       "        text-align: right;\n",
       "    }\n",
       "</style>\n",
       "<table border=\"1\" class=\"dataframe\">\n",
       "  <thead>\n",
       "    <tr style=\"text-align: right;\">\n",
       "      <th></th>\n",
       "      <th>Month</th>\n",
       "      <th>Starting Balance</th>\n",
       "      <th>Repayment</th>\n",
       "      <th>Interest Paid</th>\n",
       "      <th>Principal Paid</th>\n",
       "      <th>New Balance</th>\n",
       "      <th>term</th>\n",
       "      <th>interest_rate</th>\n",
       "      <th>car_type</th>\n",
       "    </tr>\n",
       "  </thead>\n",
       "  <tbody>\n",
       "    <tr>\n",
       "      <th>264</th>\n",
       "      <td>1</td>\n",
       "      <td>44409.6</td>\n",
       "      <td>1289.53</td>\n",
       "      <td>107.32</td>\n",
       "      <td>1182.21</td>\n",
       "      <td>43227.39</td>\n",
       "      <td>36</td>\n",
       "      <td>0.029</td>\n",
       "      <td>VW Golf R</td>\n",
       "    </tr>\n",
       "    <tr>\n",
       "      <th>300</th>\n",
       "      <td>1</td>\n",
       "      <td>44409.6</td>\n",
       "      <td>981.02</td>\n",
       "      <td>107.32</td>\n",
       "      <td>873.70</td>\n",
       "      <td>43535.90</td>\n",
       "      <td>48</td>\n",
       "      <td>0.029</td>\n",
       "      <td>VW Golf R</td>\n",
       "    </tr>\n",
       "    <tr>\n",
       "      <th>348</th>\n",
       "      <td>1</td>\n",
       "      <td>44409.6</td>\n",
       "      <td>796.01</td>\n",
       "      <td>107.32</td>\n",
       "      <td>688.69</td>\n",
       "      <td>43720.91</td>\n",
       "      <td>60</td>\n",
       "      <td>0.029</td>\n",
       "      <td>VW Golf R</td>\n",
       "    </tr>\n",
       "  </tbody>\n",
       "</table>\n",
       "</div>"
      ],
      "text/plain": [
       "     Month  Starting Balance  Repayment  Interest Paid  Principal Paid  \\\n",
       "264      1           44409.6    1289.53         107.32         1182.21   \n",
       "300      1           44409.6     981.02         107.32          873.70   \n",
       "348      1           44409.6     796.01         107.32          688.69   \n",
       "\n",
       "     New Balance  term  interest_rate   car_type  \n",
       "264     43227.39    36          0.029  VW Golf R  \n",
       "300     43535.90    48          0.029  VW Golf R  \n",
       "348     43720.91    60          0.029  VW Golf R  "
      ]
     },
     "execution_count": 30,
     "metadata": {},
     "output_type": "execute_result"
    }
   ],
   "source": [
    "m[m['Starting Balance']==44409.6]"
   ]
  },
  {
   "cell_type": "code",
   "execution_count": 31,
   "metadata": {},
   "outputs": [
    {
     "data": {
      "text/plain": [
       "0.0702"
      ]
     },
     "execution_count": 31,
     "metadata": {},
     "output_type": "execute_result"
    }
   ],
   "source": [
    "m['interest_rate'].max()"
   ]
  },
  {
   "cell_type": "code",
   "execution_count": 32,
   "metadata": {},
   "outputs": [
    {
     "data": {
      "text/plain": [
       "array([0.039])"
      ]
     },
     "execution_count": 32,
     "metadata": {},
     "output_type": "execute_result"
    }
   ],
   "source": [
    "m[m['car_type']=='Toyota Carolla']['interest_rate'].unique()"
   ]
  },
  {
   "cell_type": "code",
   "execution_count": 33,
   "metadata": {},
   "outputs": [
    {
     "data": {
      "text/plain": [
       "0.039"
      ]
     },
     "execution_count": 33,
     "metadata": {},
     "output_type": "execute_result"
    }
   ],
   "source": [
    "m[m['car_type']=='Toyota Carolla'].loc[:,'interest_rate'].max()"
   ]
  },
  {
   "cell_type": "code",
   "execution_count": 34,
   "metadata": {},
   "outputs": [
    {
     "data": {
      "text/plain": [
       "0.039"
      ]
     },
     "execution_count": 34,
     "metadata": {},
     "output_type": "execute_result"
    }
   ],
   "source": [
    "m[m['car_type']=='Toyota Carolla'].loc[:,'interest_rate'].min()"
   ]
  },
  {
   "cell_type": "code",
   "execution_count": 42,
   "metadata": {},
   "outputs": [
    {
     "data": {
      "text/html": [
       "<div>\n",
       "<style scoped>\n",
       "    .dataframe tbody tr th:only-of-type {\n",
       "        vertical-align: middle;\n",
       "    }\n",
       "\n",
       "    .dataframe tbody tr th {\n",
       "        vertical-align: top;\n",
       "    }\n",
       "\n",
       "    .dataframe thead tr th {\n",
       "        text-align: left;\n",
       "    }\n",
       "\n",
       "    .dataframe thead tr:last-of-type th {\n",
       "        text-align: right;\n",
       "    }\n",
       "</style>\n",
       "<table border=\"1\" class=\"dataframe\">\n",
       "  <thead>\n",
       "    <tr>\n",
       "      <th></th>\n",
       "      <th colspan=\"3\" halign=\"left\">Month</th>\n",
       "      <th colspan=\"3\" halign=\"left\">Starting Balance</th>\n",
       "      <th colspan=\"3\" halign=\"left\">Repayment</th>\n",
       "      <th>Interest Paid</th>\n",
       "      <th>...</th>\n",
       "      <th>Principal Paid</th>\n",
       "      <th colspan=\"3\" halign=\"left\">New Balance</th>\n",
       "      <th colspan=\"3\" halign=\"left\">term</th>\n",
       "      <th colspan=\"3\" halign=\"left\">interest_rate</th>\n",
       "    </tr>\n",
       "    <tr>\n",
       "      <th></th>\n",
       "      <th>min</th>\n",
       "      <th>max</th>\n",
       "      <th>mean</th>\n",
       "      <th>min</th>\n",
       "      <th>max</th>\n",
       "      <th>mean</th>\n",
       "      <th>min</th>\n",
       "      <th>max</th>\n",
       "      <th>mean</th>\n",
       "      <th>min</th>\n",
       "      <th>...</th>\n",
       "      <th>mean</th>\n",
       "      <th>min</th>\n",
       "      <th>max</th>\n",
       "      <th>mean</th>\n",
       "      <th>min</th>\n",
       "      <th>max</th>\n",
       "      <th>mean</th>\n",
       "      <th>min</th>\n",
       "      <th>max</th>\n",
       "      <th>mean</th>\n",
       "    </tr>\n",
       "    <tr>\n",
       "      <th>car_type</th>\n",
       "      <th></th>\n",
       "      <th></th>\n",
       "      <th></th>\n",
       "      <th></th>\n",
       "      <th></th>\n",
       "      <th></th>\n",
       "      <th></th>\n",
       "      <th></th>\n",
       "      <th></th>\n",
       "      <th></th>\n",
       "      <th></th>\n",
       "      <th></th>\n",
       "      <th></th>\n",
       "      <th></th>\n",
       "      <th></th>\n",
       "      <th></th>\n",
       "      <th></th>\n",
       "      <th></th>\n",
       "      <th></th>\n",
       "      <th></th>\n",
       "      <th></th>\n",
       "    </tr>\n",
       "  </thead>\n",
       "  <tbody>\n",
       "    <tr>\n",
       "      <th>Toyota Carolla</th>\n",
       "      <td>1</td>\n",
       "      <td>60</td>\n",
       "      <td>27.657658</td>\n",
       "      <td>395.41</td>\n",
       "      <td>21600.00</td>\n",
       "      <td>11273.869730</td>\n",
       "      <td>396.82</td>\n",
       "      <td>636.76</td>\n",
       "      <td>442.189189</td>\n",
       "      <td>1.28</td>\n",
       "      <td>...</td>\n",
       "      <td>405.553784</td>\n",
       "      <td>-0.15</td>\n",
       "      <td>21273.38</td>\n",
       "      <td>10868.315946</td>\n",
       "      <td>36</td>\n",
       "      <td>60</td>\n",
       "      <td>54.162162</td>\n",
       "      <td>0.0390</td>\n",
       "      <td>0.0390</td>\n",
       "      <td>0.03900</td>\n",
       "    </tr>\n",
       "    <tr>\n",
       "      <th>Toyota Corolla</th>\n",
       "      <td>1</td>\n",
       "      <td>36</td>\n",
       "      <td>18.242424</td>\n",
       "      <td>634.43</td>\n",
       "      <td>21600.00</td>\n",
       "      <td>11460.686061</td>\n",
       "      <td>636.76</td>\n",
       "      <td>636.76</td>\n",
       "      <td>636.760000</td>\n",
       "      <td>2.06</td>\n",
       "      <td>...</td>\n",
       "      <td>599.517576</td>\n",
       "      <td>-0.27</td>\n",
       "      <td>21033.44</td>\n",
       "      <td>10861.168485</td>\n",
       "      <td>36</td>\n",
       "      <td>36</td>\n",
       "      <td>36.000000</td>\n",
       "      <td>0.0390</td>\n",
       "      <td>0.0390</td>\n",
       "      <td>0.03900</td>\n",
       "    </tr>\n",
       "    <tr>\n",
       "      <th>Toyota Sienna</th>\n",
       "      <td>1</td>\n",
       "      <td>60</td>\n",
       "      <td>30.500000</td>\n",
       "      <td>630.23</td>\n",
       "      <td>34689.96</td>\n",
       "      <td>18397.450167</td>\n",
       "      <td>632.47</td>\n",
       "      <td>687.23</td>\n",
       "      <td>659.850000</td>\n",
       "      <td>1.88</td>\n",
       "      <td>...</td>\n",
       "      <td>578.171750</td>\n",
       "      <td>-0.36</td>\n",
       "      <td>34205.66</td>\n",
       "      <td>17819.278417</td>\n",
       "      <td>60</td>\n",
       "      <td>60</td>\n",
       "      <td>60.000000</td>\n",
       "      <td>0.0359</td>\n",
       "      <td>0.0702</td>\n",
       "      <td>0.05305</td>\n",
       "    </tr>\n",
       "    <tr>\n",
       "      <th>VW Golf R</th>\n",
       "      <td>1</td>\n",
       "      <td>60</td>\n",
       "      <td>25.500000</td>\n",
       "      <td>793.82</td>\n",
       "      <td>44409.60</td>\n",
       "      <td>23113.575694</td>\n",
       "      <td>796.01</td>\n",
       "      <td>1289.53</td>\n",
       "      <td>981.060000</td>\n",
       "      <td>1.91</td>\n",
       "      <td>...</td>\n",
       "      <td>925.206875</td>\n",
       "      <td>-0.49</td>\n",
       "      <td>43720.91</td>\n",
       "      <td>22188.368819</td>\n",
       "      <td>36</td>\n",
       "      <td>60</td>\n",
       "      <td>50.000000</td>\n",
       "      <td>0.0290</td>\n",
       "      <td>0.0290</td>\n",
       "      <td>0.02900</td>\n",
       "    </tr>\n",
       "  </tbody>\n",
       "</table>\n",
       "<p>4 rows × 24 columns</p>\n",
       "</div>"
      ],
      "text/plain": [
       "               Month                Starting Balance                          \\\n",
       "                 min max       mean              min       max          mean   \n",
       "car_type                                                                       \n",
       "Toyota Carolla     1  60  27.657658           395.41  21600.00  11273.869730   \n",
       "Toyota Corolla     1  36  18.242424           634.43  21600.00  11460.686061   \n",
       "Toyota Sienna      1  60  30.500000           630.23  34689.96  18397.450167   \n",
       "VW Golf R          1  60  25.500000           793.82  44409.60  23113.575694   \n",
       "\n",
       "               Repayment                      Interest Paid  ...  \\\n",
       "                     min      max        mean           min  ...   \n",
       "car_type                                                     ...   \n",
       "Toyota Carolla    396.82   636.76  442.189189          1.28  ...   \n",
       "Toyota Corolla    636.76   636.76  636.760000          2.06  ...   \n",
       "Toyota Sienna     632.47   687.23  659.850000          1.88  ...   \n",
       "VW Golf R         796.01  1289.53  981.060000          1.91  ...   \n",
       "\n",
       "               Principal Paid New Balance                         term      \\\n",
       "                         mean         min       max          mean  min max   \n",
       "car_type                                                                     \n",
       "Toyota Carolla     405.553784       -0.15  21273.38  10868.315946   36  60   \n",
       "Toyota Corolla     599.517576       -0.27  21033.44  10861.168485   36  36   \n",
       "Toyota Sienna      578.171750       -0.36  34205.66  17819.278417   60  60   \n",
       "VW Golf R          925.206875       -0.49  43720.91  22188.368819   36  60   \n",
       "\n",
       "                          interest_rate                   \n",
       "                     mean           min     max     mean  \n",
       "car_type                                                  \n",
       "Toyota Carolla  54.162162        0.0390  0.0390  0.03900  \n",
       "Toyota Corolla  36.000000        0.0390  0.0390  0.03900  \n",
       "Toyota Sienna   60.000000        0.0359  0.0702  0.05305  \n",
       "VW Golf R       50.000000        0.0290  0.0290  0.02900  \n",
       "\n",
       "[4 rows x 24 columns]"
      ]
     },
     "execution_count": 42,
     "metadata": {},
     "output_type": "execute_result"
    }
   ],
   "source": [
    "m[m['car_type']=='Toyota Carolla']\n",
    "m.groupby('car_type').agg(['min','max','mean'])"
   ]
  },
  {
   "cell_type": "code",
   "execution_count": null,
   "metadata": {},
   "outputs": [],
   "source": []
  },
  {
   "cell_type": "code",
   "execution_count": null,
   "metadata": {},
   "outputs": [],
   "source": []
  },
  {
   "cell_type": "code",
   "execution_count": null,
   "metadata": {},
   "outputs": [],
   "source": []
  },
  {
   "cell_type": "code",
   "execution_count": null,
   "metadata": {},
   "outputs": [],
   "source": []
  }
 ],
 "metadata": {
  "kernelspec": {
   "display_name": "Python 3",
   "language": "python",
   "name": "python3"
  },
  "language_info": {
   "codemirror_mode": {
    "name": "ipython",
    "version": 3
   },
   "file_extension": ".py",
   "mimetype": "text/x-python",
   "name": "python",
   "nbconvert_exporter": "python",
   "pygments_lexer": "ipython3",
   "version": "3.7.3"
  }
 },
 "nbformat": 4,
 "nbformat_minor": 2
}
